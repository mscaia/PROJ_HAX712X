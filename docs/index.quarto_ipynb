{
  "cells": [
    {
      "cell_type": "markdown",
      "metadata": {},
      "source": [
        "---\n",
        "title: \"Visualisation des trajets en vélo dans la ville de Montpellier.\"\n",
        "---\n",
        "\n",
        "\n",
        "\n",
        "\n",
        "Ici seront exposés les résultats principaux de nos travaux (cartes interactives et vidéo)\n",
        "\n",
        "![](https://raw.githubusercontent.com/mscaia/PROJ_HAX712X/main/images/Figure_of_interest_.png){fig-align=\"center\" width=\"80%\"}\n",
        "\n",
        "![](https://raw.githubusercontent.com/mscaia/PROJ_HAX712X/main/images/Nbr_trajet_par_jour.png){fig-align=\"center\" width=\"80%\"}\n",
        "\n",
        "## Test importation fichier HTML\n",
        "\n",
        "<iframe src=\"./images/graphique_distance_jour.html\" width=\"100%\" height=\"600\"></iframe>\n",
        "\n",
        "## Test Importation fichier Python\n"
      ],
      "id": "63a5c3d3"
    },
    {
      "cell_type": "code",
      "metadata": {
        "results": true
      },
      "source": [
        "#| echo: false\n",
        "exec(open(\"images/statistique.py\").read())"
      ],
      "id": "015ef46f",
      "execution_count": null,
      "outputs": []
    }
  ],
  "metadata": {
    "kernelspec": {
      "name": "python3",
      "language": "python",
      "display_name": "Python 3 (ipykernel)",
      "path": "C:\\Users\\CONDAMY Fabian\\anaconda3\\share\\jupyter\\kernels\\python3"
    }
  },
  "nbformat": 4,
  "nbformat_minor": 5
}